{
 "cells": [
  {
   "cell_type": "code",
   "execution_count": null,
   "metadata": {},
   "outputs": [],
   "source": [
    "import numpy as np\n",
    "import pandas as pd\n",
    "import yaml\n",
    "import json\n",
    "import glob\n",
    "import os\n",
    "import warnings\n",
    "import pymap3d\n",
    "from tqdm import tqdm"
   ]
  },
  {
   "cell_type": "code",
   "execution_count": null,
   "metadata": {},
   "outputs": [],
   "source": [
    "label_csv = \"/home/auv/Downloads/to_jackson/finetuning/m5169_4classes_18dives/sampled_images_tasmania_2008_18dives_dan_pred.csv\"\n",
    "existingdivedir = \"/home/auv/data/jhs/datasets/2008/Tasmania200810/tasmania-2008-datasets/dives\"\n",
    "output_dir = os.path.join(\"cocos\", \"4_class\")\n"
   ]
  },
  {
   "cell_type": "code",
   "execution_count": null,
   "metadata": {},
   "outputs": [],
   "source": [
    "df = pd.read_csv(label_csv)\n"
   ]
  },
  {
   "cell_type": "code",
   "execution_count": null,
   "metadata": {},
   "outputs": [],
   "source": [
    "dive_list = [os.path.basename(os.path.dirname(path)) for path in glob.glob(existingdivedir + \"/*/\")]\n",
    "divenum_to_divestr = {int(d.split('_')[-2]):d for d in dive_list}\n",
    "divestr_to_divenum = {v:k for k,v in divenum_to_divestr.items()}\n",
    "\n",
    "\n",
    "def tkrelpath_to_dive(relpath):\n",
    "    divenum = int(relpath.split('tasmania_')[1].split('/')[0])\n",
    "    return divenum_to_divestr[divenum]"
   ]
  },
  {
   "cell_type": "code",
   "execution_count": null,
   "metadata": {},
   "outputs": [],
   "source": [
    "dive_to_series = {d:[] for d in dive_list}\n",
    "count = 0\n",
    "for index, row in df.iterrows():\n",
    "    d = tkrelpath_to_dive(row['relative_path'])\n",
    "    if d in dive_to_series:\n",
    "        dive_to_series[d].append(row)\n",
    "    else:\n",
    "        warnings.warn(\"Dive %s not available\" % d)\n",
    "dive_to_df = {k: pd.DataFrame(v) for k,v in dive_to_series.items()}"
   ]
  },
  {
   "cell_type": "code",
   "execution_count": null,
   "metadata": {},
   "outputs": [],
   "source": [
    "def divedf_to_coco(divedf, divename, output_coco):\n",
    "    images = []\n",
    "    cats = []\n",
    "    anns = []\n",
    "    datum = None\n",
    "    uniq_cids = []\n",
    "    pbar = tqdm(total=len(divedf), desc=dive)\n",
    "    for index, row in divedf.iterrows():\n",
    "        pbar.update(1)\n",
    "        if datum is None:\n",
    "            datum = [row['latitude [deg]'], row['longitude [deg]']]\n",
    "        iid = index\n",
    "        aid = index\n",
    "        cid = row['pred']\n",
    "        fn = os.path.basename(row['relative_path'])\n",
    "        north,east,down = pymap3d.geodetic2ned(lat=row['latitude [deg]'], lon=row['longitude [deg]'], h=0., lat0=datum[0], lon0=datum[1], h0=0.)\n",
    "        im = {\n",
    "            \"file_name\": fn,\n",
    "            \"geo_location\": [row['latitude [deg]'], row['longitude [deg]'], row['bathymetry [m]']],\n",
    "            \"height\": 1024,\n",
    "            \"width\": 1360,\n",
    "            \"id\": iid,\n",
    "            \"path\": os.path.join('dummy', divename, fn),\n",
    "            \"pose\": {\n",
    "                \"orientation\": [\n",
    "                    row['roll [deg]'] * np.pi /180.0,\n",
    "                    row['pitch [deg]'] * np.pi /180.0,\n",
    "                    row['heading [deg]'] * np.pi /180.0],\n",
    "                \"altitude\": row['altitude [m]'],\n",
    "                \"position\": [north, east, down]\n",
    "            }\n",
    "        }\n",
    "        ann = {\n",
    "            \"annotation_type\": \"point\",\n",
    "            \"area\": 10,\n",
    "            \"bbox\": [1,2,3,4],\n",
    "            \"category_id\": cid,\n",
    "            \"id\": aid,\n",
    "            \"iscrowd\": False,\n",
    "            \"image_id\": iid,\n",
    "            \"occluded\": False\n",
    "        }\n",
    "        if cid not in uniq_cids:\n",
    "            uniq_cids.append(cid)\n",
    "    \n",
    "        images.append(im)\n",
    "        anns.append(ann)\n",
    "    pbar.close()\n",
    "    for cid in uniq_cids:\n",
    "        cat = {\n",
    "            \"id\": cid,\n",
    "            \"name\": str(cid),\n",
    "            \"supercategory\": \"\"\n",
    "        }\n",
    "        cats.append(cat)\n",
    "\n",
    "    dataset = {\n",
    "        \"images\": images,\n",
    "        \"annotations\": anns,\n",
    "        \"categories\": cats\n",
    "    }\n",
    "    json.dump(dataset, open(output_coco, 'w'), indent=4)\n"
   ]
  },
  {
   "cell_type": "code",
   "execution_count": null,
   "metadata": {},
   "outputs": [],
   "source": [
    "os.makedirs(output_dir, exist_ok=True)\n",
    "\n",
    "for dive, ddf in dive_to_df.items():\n",
    "    divedf_to_coco(ddf, dive, os.path.join(output_dir, dive + \".json\"))"
   ]
  },
  {
   "cell_type": "code",
   "execution_count": null,
   "metadata": {},
   "outputs": [],
   "source": [
    "ss = df.loc[0]['relative_path']\n",
    "print(ss)\n",
    "row"
   ]
  },
  {
   "cell_type": "code",
   "execution_count": null,
   "metadata": {},
   "outputs": [],
   "source": [
    "count = 0\n",
    "tmp = []\n",
    "for index, row in df.iterrows():\n",
    "    tmp.append(row)\n",
    "    count += 1\n",
    "    if count > 10:\n",
    "        break"
   ]
  },
  {
   "cell_type": "code",
   "execution_count": null,
   "metadata": {},
   "outputs": [],
   "source": [
    "tmp_df = pd.DataFrame(tmp)"
   ]
  },
  {
   "cell_type": "code",
   "execution_count": null,
   "metadata": {},
   "outputs": [],
   "source": []
  },
  {
   "cell_type": "code",
   "execution_count": null,
   "metadata": {},
   "outputs": [],
   "source": []
  }
 ],
 "metadata": {
  "kernelspec": {
   "display_name": "Python 3",
   "language": "python",
   "name": "python3"
  },
  "language_info": {
   "codemirror_mode": {
    "name": "ipython",
    "version": 3
   },
   "file_extension": ".py",
   "mimetype": "text/x-python",
   "name": "python",
   "nbconvert_exporter": "python",
   "pygments_lexer": "ipython3",
   "version": "3.6.9"
  }
 },
 "nbformat": 4,
 "nbformat_minor": 4
}
